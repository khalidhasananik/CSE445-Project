{
 "cells": [
  {
   "cell_type": "code",
   "execution_count": 3,
   "metadata": {},
   "outputs": [
    {
     "name": "stdout",
     "output_type": "stream",
     "text": [
      "Mean Absolute Error: 1364.8576471263193\n",
      "Mean Squared Error: 9520539.747601908\n",
      "Root Mean Squared Error: 3085.537189469916\n",
      "R2 Score: -0.14273502160692852\n"
     ]
    }
   ],
   "source": [
    "# SVR for Dengue Prediction\n",
    "\n",
    "# Importing the libraries\n",
    "import numpy as np\n",
    "import matplotlib.pyplot as plt\n",
    "import pandas as pd\n",
    "from sklearn.ensemble import AdaBoostRegressor\n",
    "\n",
    "# Importing the dataset\n",
    "dataset = pd.read_csv('dataset/dataset.csv', header = None)\n",
    "dataset.columns = dataset.iloc[0] # set the first row as the header\n",
    "dataset = dataset[1:] # remove the first row\n",
    "dataset = dataset.drop(columns=['Year']) # remove the year column\n",
    "\n",
    "# Encoding categorical data\n",
    "from sklearn.preprocessing import LabelEncoder\n",
    "label_encoder = LabelEncoder()\n",
    "dataset['District'] = label_encoder.fit_transform(dataset['District'])\n",
    "\n",
    "# Handling missing data\n",
    "dataset = dataset.apply(pd.to_numeric, errors='coerce')\n",
    "# dataset.ffill(axis = 0, inplace=True)\n",
    "# dataset.fillna(dataset.mean(), inplace=True)\n",
    "# dataset.fillna(dataset.mode().iloc[0], inplace=True)\n",
    "# dataset.fillna(dataset.median(), inplace=True)\n",
    "dataset.fillna(0, inplace=True)\n",
    "dataset['Total Cases'] = dataset.iloc[:, 37:49].sum(axis=1)\n",
    "dataset = dataset.drop(dataset.columns[37:49], axis=1)\n",
    "\n",
    "# Splitting the dataset into the Training set and Test set\n",
    "from sklearn.model_selection import train_test_split\n",
    "X = dataset.iloc[:, 0:-1].values # all columns except the last one\n",
    "Y = dataset.iloc[:, -1].values # the last column\n",
    "X_train, X_test, Y_train, Y_test = train_test_split(X, Y, test_size = 0.20, random_state = 0) # 75% training and 25% test\n",
    "\n",
    "# Feature Scaling\n",
    "from sklearn.preprocessing import StandardScaler\n",
    "from sklearn.linear_model import LinearRegression\n",
    "from sklearn.metrics import mean_squared_error\n",
    "from sklearn.linear_model import Lasso\n",
    "sc_X = StandardScaler()\n",
    "X_train = sc_X.fit_transform(X_train)\n",
    "X_test = sc_X.transform(X_test)\n",
    "\n",
    "# Fitting SVR to the dataset\n",
    "from sklearn.svm import SVR\n",
    "regressor = SVR(kernel = 'rbf')\n",
    "regressor.fit(X_train, Y_train)\n",
    "\n",
    "# Predicting the Test set results\n",
    "Y_pred = regressor.predict(X_test)\n",
    "\n",
    "# Evaluating the Algorithm\n",
    "from sklearn import metrics\n",
    "print('Mean Absolute Error:', metrics.mean_absolute_error(Y_test, Y_pred))\n",
    "print('Mean Squared Error:', metrics.mean_squared_error(Y_test, Y_pred))\n",
    "print('Root Mean Squared Error:', np.sqrt(metrics.mean_squared_error(Y_test, Y_pred)))\n",
    "print('R2 Score:', metrics.r2_score(Y_test, Y_pred))"
   ]
  }
 ],
 "metadata": {
  "kernelspec": {
   "display_name": "Python 3",
   "language": "python",
   "name": "python3"
  },
  "language_info": {
   "codemirror_mode": {
    "name": "ipython",
    "version": 3
   },
   "file_extension": ".py",
   "mimetype": "text/x-python",
   "name": "python",
   "nbconvert_exporter": "python",
   "pygments_lexer": "ipython3",
   "version": "3.12.2"
  }
 },
 "nbformat": 4,
 "nbformat_minor": 2
}
